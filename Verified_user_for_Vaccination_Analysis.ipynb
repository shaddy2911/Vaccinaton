{
  "nbformat": 4,
  "nbformat_minor": 0,
  "metadata": {
    "colab": {
      "name": "Verified user for Vaccination Analysis.ipynb",
      "provenance": [],
      "mount_file_id": "1uHs5oot5u3o9k3Rb8IGC-mtUAkaTe5Pp",
      "authorship_tag": "ABX9TyMRov7QaDOgoi/k2fBK1kMM"
    },
    "kernelspec": {
      "name": "python3",
      "display_name": "Python 3"
    },
    "language_info": {
      "name": "python"
    },
    "accelerator": "GPU"
  },
  "cells": [
    {
      "cell_type": "code",
      "metadata": {
        "colab": {
          "resources": {
            "http://localhost:8080/nbextensions/google.colab/files.js": {
              "data": "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",
              "ok": true,
              "headers": [
                [
                  "content-type",
                  "application/javascript"
                ]
              ],
              "status": 200,
              "status_text": ""
            }
          },
          "base_uri": "https://localhost:8080/",
          "height": 73
        },
        "id": "-YT23PpBICMX",
        "outputId": "5f0c89c0-f71f-4ebe-fcd2-38bab85058cb"
      },
      "source": [
        "from google.colab import files\n",
        "a=files.upload()  "
      ],
      "execution_count": null,
      "outputs": [
        {
          "output_type": "display_data",
          "data": {
            "text/html": [
              "\n",
              "     <input type=\"file\" id=\"files-8bdbb961-bdd7-4407-9ea3-39d6c218a47d\" name=\"files[]\" multiple disabled\n",
              "        style=\"border:none\" />\n",
              "     <output id=\"result-8bdbb961-bdd7-4407-9ea3-39d6c218a47d\">\n",
              "      Upload widget is only available when the cell has been executed in the\n",
              "      current browser session. Please rerun this cell to enable.\n",
              "      </output>\n",
              "      <script src=\"/nbextensions/google.colab/files.js\"></script> "
            ],
            "text/plain": [
              "<IPython.core.display.HTML object>"
            ]
          },
          "metadata": {
            "tags": []
          }
        },
        {
          "output_type": "stream",
          "text": [
            "Saving vaccination_tweets.csv to vaccination_tweets.csv\n"
          ],
          "name": "stdout"
        }
      ]
    },
    {
      "cell_type": "code",
      "metadata": {
        "id": "0osCJctHK2df"
      },
      "source": [
        "import pandas as pd\n"
      ],
      "execution_count": null,
      "outputs": []
    },
    {
      "cell_type": "code",
      "metadata": {
        "colab": {
          "base_uri": "https://localhost:8080/",
          "height": 512
        },
        "id": "NRTMn1huS1z-",
        "outputId": "342ec5b8-4e4f-4101-f7fb-7c6f56844b61"
      },
      "source": [
        "data=pd.read_csv('/content/vaccination_tweets.csv')\n",
        "data.head()"
      ],
      "execution_count": null,
      "outputs": [
        {
          "output_type": "execute_result",
          "data": {
            "text/html": [
              "<div>\n",
              "<style scoped>\n",
              "    .dataframe tbody tr th:only-of-type {\n",
              "        vertical-align: middle;\n",
              "    }\n",
              "\n",
              "    .dataframe tbody tr th {\n",
              "        vertical-align: top;\n",
              "    }\n",
              "\n",
              "    .dataframe thead th {\n",
              "        text-align: right;\n",
              "    }\n",
              "</style>\n",
              "<table border=\"1\" class=\"dataframe\">\n",
              "  <thead>\n",
              "    <tr style=\"text-align: right;\">\n",
              "      <th></th>\n",
              "      <th>id</th>\n",
              "      <th>user_name</th>\n",
              "      <th>user_location</th>\n",
              "      <th>user_description</th>\n",
              "      <th>user_created</th>\n",
              "      <th>user_followers</th>\n",
              "      <th>user_friends</th>\n",
              "      <th>user_favourites</th>\n",
              "      <th>user_verified</th>\n",
              "      <th>date</th>\n",
              "      <th>text</th>\n",
              "      <th>hashtags</th>\n",
              "      <th>source</th>\n",
              "      <th>retweets</th>\n",
              "      <th>favorites</th>\n",
              "      <th>is_retweet</th>\n",
              "    </tr>\n",
              "  </thead>\n",
              "  <tbody>\n",
              "    <tr>\n",
              "      <th>0</th>\n",
              "      <td>1340539111971516416</td>\n",
              "      <td>Rachel Roh</td>\n",
              "      <td>La Crescenta-Montrose, CA</td>\n",
              "      <td>Aggregator of Asian American news; scanning di...</td>\n",
              "      <td>2009-04-08 17:52:46</td>\n",
              "      <td>405</td>\n",
              "      <td>1692</td>\n",
              "      <td>3247</td>\n",
              "      <td>False</td>\n",
              "      <td>2020-12-20 06:06:44</td>\n",
              "      <td>Same folks said daikon paste could treat a cyt...</td>\n",
              "      <td>['PfizerBioNTech']</td>\n",
              "      <td>Twitter for Android</td>\n",
              "      <td>0</td>\n",
              "      <td>0</td>\n",
              "      <td>False</td>\n",
              "    </tr>\n",
              "    <tr>\n",
              "      <th>1</th>\n",
              "      <td>1338158543359250433</td>\n",
              "      <td>Albert Fong</td>\n",
              "      <td>San Francisco, CA</td>\n",
              "      <td>Marketing dude, tech geek, heavy metal &amp; '80s ...</td>\n",
              "      <td>2009-09-21 15:27:30</td>\n",
              "      <td>834</td>\n",
              "      <td>666</td>\n",
              "      <td>178</td>\n",
              "      <td>False</td>\n",
              "      <td>2020-12-13 16:27:13</td>\n",
              "      <td>While the world has been on the wrong side of ...</td>\n",
              "      <td>NaN</td>\n",
              "      <td>Twitter Web App</td>\n",
              "      <td>1</td>\n",
              "      <td>1</td>\n",
              "      <td>False</td>\n",
              "    </tr>\n",
              "    <tr>\n",
              "      <th>2</th>\n",
              "      <td>1337858199140118533</td>\n",
              "      <td>eli🇱🇹🇪🇺👌</td>\n",
              "      <td>Your Bed</td>\n",
              "      <td>heil, hydra 🖐☺</td>\n",
              "      <td>2020-06-25 23:30:28</td>\n",
              "      <td>10</td>\n",
              "      <td>88</td>\n",
              "      <td>155</td>\n",
              "      <td>False</td>\n",
              "      <td>2020-12-12 20:33:45</td>\n",
              "      <td>#coronavirus #SputnikV #AstraZeneca #PfizerBio...</td>\n",
              "      <td>['coronavirus', 'SputnikV', 'AstraZeneca', 'Pf...</td>\n",
              "      <td>Twitter for Android</td>\n",
              "      <td>0</td>\n",
              "      <td>0</td>\n",
              "      <td>False</td>\n",
              "    </tr>\n",
              "    <tr>\n",
              "      <th>3</th>\n",
              "      <td>1337855739918835717</td>\n",
              "      <td>Charles Adler</td>\n",
              "      <td>Vancouver, BC - Canada</td>\n",
              "      <td>Hosting \"CharlesAdlerTonight\" Global News Radi...</td>\n",
              "      <td>2008-09-10 11:28:53</td>\n",
              "      <td>49165</td>\n",
              "      <td>3933</td>\n",
              "      <td>21853</td>\n",
              "      <td>True</td>\n",
              "      <td>2020-12-12 20:23:59</td>\n",
              "      <td>Facts are immutable, Senator, even when you're...</td>\n",
              "      <td>NaN</td>\n",
              "      <td>Twitter Web App</td>\n",
              "      <td>446</td>\n",
              "      <td>2129</td>\n",
              "      <td>False</td>\n",
              "    </tr>\n",
              "    <tr>\n",
              "      <th>4</th>\n",
              "      <td>1337854064604966912</td>\n",
              "      <td>Citizen News Channel</td>\n",
              "      <td>NaN</td>\n",
              "      <td>Citizen News Channel bringing you an alternati...</td>\n",
              "      <td>2020-04-23 17:58:42</td>\n",
              "      <td>152</td>\n",
              "      <td>580</td>\n",
              "      <td>1473</td>\n",
              "      <td>False</td>\n",
              "      <td>2020-12-12 20:17:19</td>\n",
              "      <td>Explain to me again why we need a vaccine @Bor...</td>\n",
              "      <td>['whereareallthesickpeople', 'PfizerBioNTech']</td>\n",
              "      <td>Twitter for iPhone</td>\n",
              "      <td>0</td>\n",
              "      <td>0</td>\n",
              "      <td>False</td>\n",
              "    </tr>\n",
              "  </tbody>\n",
              "</table>\n",
              "</div>"
            ],
            "text/plain": [
              "                    id             user_name  ... favorites is_retweet\n",
              "0  1340539111971516416            Rachel Roh  ...         0      False\n",
              "1  1338158543359250433           Albert Fong  ...         1      False\n",
              "2  1337858199140118533              eli🇱🇹🇪🇺👌  ...         0      False\n",
              "3  1337855739918835717         Charles Adler  ...      2129      False\n",
              "4  1337854064604966912  Citizen News Channel  ...         0      False\n",
              "\n",
              "[5 rows x 16 columns]"
            ]
          },
          "metadata": {
            "tags": []
          },
          "execution_count": 3
        }
      ]
    },
    {
      "cell_type": "code",
      "metadata": {
        "id": "8JKoQOj9TAyD"
      },
      "source": [
        "import numpy as np\n",
        "import matplotlib.pyplot as plt\n",
        "import seaborn as sns"
      ],
      "execution_count": null,
      "outputs": []
    },
    {
      "cell_type": "code",
      "metadata": {
        "colab": {
          "base_uri": "https://localhost:8080/",
          "height": 297
        },
        "id": "tsbQWaapa9Do",
        "outputId": "ca629118-b6b8-4043-e882-dab8e1b444d0"
      },
      "source": [
        "data.describe()"
      ],
      "execution_count": null,
      "outputs": [
        {
          "output_type": "execute_result",
          "data": {
            "text/html": [
              "<div>\n",
              "<style scoped>\n",
              "    .dataframe tbody tr th:only-of-type {\n",
              "        vertical-align: middle;\n",
              "    }\n",
              "\n",
              "    .dataframe tbody tr th {\n",
              "        vertical-align: top;\n",
              "    }\n",
              "\n",
              "    .dataframe thead th {\n",
              "        text-align: right;\n",
              "    }\n",
              "</style>\n",
              "<table border=\"1\" class=\"dataframe\">\n",
              "  <thead>\n",
              "    <tr style=\"text-align: right;\">\n",
              "      <th></th>\n",
              "      <th>id</th>\n",
              "      <th>user_followers</th>\n",
              "      <th>user_friends</th>\n",
              "      <th>user_favourites</th>\n",
              "      <th>retweets</th>\n",
              "      <th>favorites</th>\n",
              "    </tr>\n",
              "  </thead>\n",
              "  <tbody>\n",
              "    <tr>\n",
              "      <th>count</th>\n",
              "      <td>2.518000e+03</td>\n",
              "      <td>2.518000e+03</td>\n",
              "      <td>2518.000000</td>\n",
              "      <td>2518.000000</td>\n",
              "      <td>2518.000000</td>\n",
              "      <td>2518.000000</td>\n",
              "    </tr>\n",
              "    <tr>\n",
              "      <th>mean</th>\n",
              "      <td>1.341949e+18</td>\n",
              "      <td>6.342983e+04</td>\n",
              "      <td>1170.952740</td>\n",
              "      <td>13380.415012</td>\n",
              "      <td>1.715250</td>\n",
              "      <td>10.464654</td>\n",
              "    </tr>\n",
              "    <tr>\n",
              "      <th>std</th>\n",
              "      <td>2.768504e+15</td>\n",
              "      <td>4.762127e+05</td>\n",
              "      <td>2469.263253</td>\n",
              "      <td>41706.034152</td>\n",
              "      <td>12.237077</td>\n",
              "      <td>74.644921</td>\n",
              "    </tr>\n",
              "    <tr>\n",
              "      <th>min</th>\n",
              "      <td>1.337728e+18</td>\n",
              "      <td>0.000000e+00</td>\n",
              "      <td>0.000000</td>\n",
              "      <td>0.000000</td>\n",
              "      <td>0.000000</td>\n",
              "      <td>0.000000</td>\n",
              "    </tr>\n",
              "    <tr>\n",
              "      <th>25%</th>\n",
              "      <td>1.339437e+18</td>\n",
              "      <td>1.140000e+02</td>\n",
              "      <td>165.000000</td>\n",
              "      <td>342.000000</td>\n",
              "      <td>0.000000</td>\n",
              "      <td>0.000000</td>\n",
              "    </tr>\n",
              "    <tr>\n",
              "      <th>50%</th>\n",
              "      <td>1.341481e+18</td>\n",
              "      <td>6.060000e+02</td>\n",
              "      <td>441.000000</td>\n",
              "      <td>1659.000000</td>\n",
              "      <td>0.000000</td>\n",
              "      <td>1.000000</td>\n",
              "    </tr>\n",
              "    <tr>\n",
              "      <th>75%</th>\n",
              "      <td>1.344353e+18</td>\n",
              "      <td>2.978000e+03</td>\n",
              "      <td>1191.000000</td>\n",
              "      <td>9733.750000</td>\n",
              "      <td>1.000000</td>\n",
              "      <td>4.000000</td>\n",
              "    </tr>\n",
              "    <tr>\n",
              "      <th>max</th>\n",
              "      <td>1.347131e+18</td>\n",
              "      <td>1.371493e+07</td>\n",
              "      <td>64441.000000</td>\n",
              "      <td>924667.000000</td>\n",
              "      <td>446.000000</td>\n",
              "      <td>2129.000000</td>\n",
              "    </tr>\n",
              "  </tbody>\n",
              "</table>\n",
              "</div>"
            ],
            "text/plain": [
              "                 id  user_followers  ...     retweets    favorites\n",
              "count  2.518000e+03    2.518000e+03  ...  2518.000000  2518.000000\n",
              "mean   1.341949e+18    6.342983e+04  ...     1.715250    10.464654\n",
              "std    2.768504e+15    4.762127e+05  ...    12.237077    74.644921\n",
              "min    1.337728e+18    0.000000e+00  ...     0.000000     0.000000\n",
              "25%    1.339437e+18    1.140000e+02  ...     0.000000     0.000000\n",
              "50%    1.341481e+18    6.060000e+02  ...     0.000000     1.000000\n",
              "75%    1.344353e+18    2.978000e+03  ...     1.000000     4.000000\n",
              "max    1.347131e+18    1.371493e+07  ...   446.000000  2129.000000\n",
              "\n",
              "[8 rows x 6 columns]"
            ]
          },
          "metadata": {
            "tags": []
          },
          "execution_count": 5
        }
      ]
    },
    {
      "cell_type": "code",
      "metadata": {
        "colab": {
          "base_uri": "https://localhost:8080/"
        },
        "id": "Zqo5J5j7bCoC",
        "outputId": "64c6463d-d427-450f-a4a1-b7a910009686"
      },
      "source": [
        "data.info()"
      ],
      "execution_count": null,
      "outputs": [
        {
          "output_type": "stream",
          "text": [
            "<class 'pandas.core.frame.DataFrame'>\n",
            "RangeIndex: 2518 entries, 0 to 2517\n",
            "Data columns (total 16 columns):\n",
            " #   Column            Non-Null Count  Dtype \n",
            "---  ------            --------------  ----- \n",
            " 0   id                2518 non-null   int64 \n",
            " 1   user_name         2518 non-null   object\n",
            " 2   user_location     1998 non-null   object\n",
            " 3   user_description  2394 non-null   object\n",
            " 4   user_created      2518 non-null   object\n",
            " 5   user_followers    2518 non-null   int64 \n",
            " 6   user_friends      2518 non-null   int64 \n",
            " 7   user_favourites   2518 non-null   int64 \n",
            " 8   user_verified     2518 non-null   bool  \n",
            " 9   date              2518 non-null   object\n",
            " 10  text              2518 non-null   object\n",
            " 11  hashtags          1884 non-null   object\n",
            " 12  source            2517 non-null   object\n",
            " 13  retweets          2518 non-null   int64 \n",
            " 14  favorites         2518 non-null   int64 \n",
            " 15  is_retweet        2518 non-null   bool  \n",
            "dtypes: bool(2), int64(6), object(8)\n",
            "memory usage: 280.4+ KB\n"
          ],
          "name": "stdout"
        }
      ]
    },
    {
      "cell_type": "code",
      "metadata": {
        "colab": {
          "base_uri": "https://localhost:8080/"
        },
        "id": "Yd7CW064bgcu",
        "outputId": "876dac50-83d2-45cc-84be-05db64af2eb0"
      },
      "source": [
        "data.isnull().sum()"
      ],
      "execution_count": null,
      "outputs": [
        {
          "output_type": "execute_result",
          "data": {
            "text/plain": [
              "id                    0\n",
              "user_name             0\n",
              "user_location       520\n",
              "user_description    124\n",
              "user_created          0\n",
              "user_followers        0\n",
              "user_friends          0\n",
              "user_favourites       0\n",
              "user_verified         0\n",
              "date                  0\n",
              "text                  0\n",
              "hashtags            634\n",
              "source                1\n",
              "retweets              0\n",
              "favorites             0\n",
              "is_retweet            0\n",
              "dtype: int64"
            ]
          },
          "metadata": {
            "tags": []
          },
          "execution_count": 7
        }
      ]
    },
    {
      "cell_type": "code",
      "metadata": {
        "colab": {
          "base_uri": "https://localhost:8080/"
        },
        "id": "Y8GXaDZCbmFI",
        "outputId": "c005a84c-5818-4ece-dd29-5638d3acea9d"
      },
      "source": [
        "columns=[]\n",
        "for i in data.columns:\n",
        "  columns.append(i)\n",
        "columns"
      ],
      "execution_count": null,
      "outputs": [
        {
          "output_type": "execute_result",
          "data": {
            "text/plain": [
              "['id',\n",
              " 'user_name',\n",
              " 'user_location',\n",
              " 'user_description',\n",
              " 'user_created',\n",
              " 'user_followers',\n",
              " 'user_friends',\n",
              " 'user_favourites',\n",
              " 'user_verified',\n",
              " 'date',\n",
              " 'text',\n",
              " 'hashtags',\n",
              " 'source',\n",
              " 'retweets',\n",
              " 'favorites',\n",
              " 'is_retweet']"
            ]
          },
          "metadata": {
            "tags": []
          },
          "execution_count": 8
        }
      ]
    },
    {
      "cell_type": "code",
      "metadata": {
        "colab": {
          "base_uri": "https://localhost:8080/"
        },
        "id": "RCHpat1wchET",
        "outputId": "9f780bc3-0a06-407c-bd79-77eb421e1fe6"
      },
      "source": [
        "data.shape"
      ],
      "execution_count": null,
      "outputs": [
        {
          "output_type": "execute_result",
          "data": {
            "text/plain": [
              "(2518, 16)"
            ]
          },
          "metadata": {
            "tags": []
          },
          "execution_count": 9
        }
      ]
    },
    {
      "cell_type": "code",
      "metadata": {
        "colab": {
          "base_uri": "https://localhost:8080/",
          "height": 359
        },
        "id": "dmTQbbr5dnGN",
        "outputId": "54115ed2-47f5-4fc3-f21c-104eafa3b18f"
      },
      "source": [
        "sns.heatmap(data.isnull(),cmap='magma')"
      ],
      "execution_count": null,
      "outputs": [
        {
          "output_type": "execute_result",
          "data": {
            "text/plain": [
              "<matplotlib.axes._subplots.AxesSubplot at 0x7f519ed78910>"
            ]
          },
          "metadata": {
            "tags": []
          },
          "execution_count": 10
        },
        {
          "output_type": "display_data",
          "data": {
            "image/png": "[encoded data removed]",
            "text/plain": [
              "<Figure size 432x288 with 2 Axes>"
            ]
          },
          "metadata": {
            "tags": [],
            "needs_background": "light"
          }
        }
      ]
    },
    {
      "cell_type": "code",
      "metadata": {
        "colab": {
          "base_uri": "https://localhost:8080/"
        },
        "id": "lTGL5xbxd0WI",
        "outputId": "09023333-f148-457b-e72e-483121c04cc9"
      },
      "source": [
        "null_values_columns=[]\n",
        "for i in data.columns:\n",
        "  if data[i].isnull().any()==True:\n",
        "    null_values_columns.append(i)\n",
        "null_values_columns"
      ],
      "execution_count": null,
      "outputs": [
        {
          "output_type": "execute_result",
          "data": {
            "text/plain": [
              "['user_location', 'user_description', 'hashtags', 'source']"
            ]
          },
          "metadata": {
            "tags": []
          },
          "execution_count": 11
        }
      ]
    },
    {
      "cell_type": "code",
      "metadata": {
        "colab": {
          "base_uri": "https://localhost:8080/"
        },
        "id": "i1J5WGz-fW_G",
        "outputId": "2d77edad-f2ac-4c26-eedb-c1351968e2e5"
      },
      "source": [
        "np.where(data['user_location'].isnull())"
      ],
      "execution_count": null,
      "outputs": [
        {
          "output_type": "execute_result",
          "data": {
            "text/plain": [
              "(array([   4,    7,    8,   11,   13,   14,   20,   24,   36,   42,   46,\n",
              "          47,   50,   61,   66,   70,   74,   97,   98,  106,  107,  108,\n",
              "         112,  114,  121,  123,  132,  137,  141,  144,  148,  153,  158,\n",
              "         161,  166,  167,  169,  170,  193,  194,  195,  197,  209,  210,\n",
              "         213,  219,  224,  228,  230,  236,  237,  241,  247,  268,  272,\n",
              "         277,  279,  281,  287,  294,  296,  306,  312,  313,  320,  326,\n",
              "         327,  328,  329,  333,  345,  354,  355,  359,  360,  365,  369,\n",
              "         373,  375,  378,  379,  380,  381,  385,  386,  389,  392,  395,\n",
              "         399,  401,  405,  406,  430,  440,  442,  443,  450,  452,  454,\n",
              "         458,  484,  489,  494,  496,  499,  500,  504,  507,  508,  512,\n",
              "         514,  547,  557,  564,  566,  567,  580,  581,  590,  591,  595,\n",
              "         599,  605,  606,  609,  613,  624,  626,  627,  629,  630,  631,\n",
              "         636,  642,  644,  645,  647,  649,  655,  672,  673,  683,  697,\n",
              "         702,  703,  711,  719,  724,  737,  746,  749,  763,  764,  765,\n",
              "         766,  767,  768,  769,  770,  771,  772,  773,  774,  775,  777,\n",
              "         778,  779,  780,  781,  784,  787,  790,  804,  806,  807,  816,\n",
              "         817,  818,  819,  820,  821,  828,  832,  833,  837,  841,  842,\n",
              "         843,  850,  853,  859,  860,  863,  874,  880,  886,  893,  902,\n",
              "         903,  904,  905,  906,  907,  913,  915,  916,  928,  943,  945,\n",
              "         946,  955,  958,  966,  972,  975,  979,  987,  996, 1001, 1010,\n",
              "        1011, 1019, 1020, 1021, 1028, 1030, 1039, 1044, 1049, 1058, 1059,\n",
              "        1060, 1062, 1064, 1069, 1074, 1076, 1079, 1080, 1081, 1082, 1084,\n",
              "        1086, 1087, 1088, 1091, 1092, 1094, 1103, 1113, 1124, 1127, 1139,\n",
              "        1164, 1166, 1167, 1168, 1169, 1170, 1171, 1175, 1176, 1177, 1181,\n",
              "        1193, 1195, 1198, 1200, 1204, 1209, 1213, 1214, 1217, 1221, 1227,\n",
              "        1243, 1253, 1256, 1266, 1277, 1282, 1285, 1289, 1296, 1299, 1318,\n",
              "        1319, 1322, 1330, 1344, 1346, 1356, 1361, 1404, 1412, 1414, 1418,\n",
              "        1421, 1423, 1427, 1435, 1441, 1444, 1445, 1449, 1453, 1461, 1462,\n",
              "        1472, 1478, 1482, 1483, 1484, 1486, 1487, 1488, 1490, 1491, 1503,\n",
              "        1504, 1509, 1518, 1533, 1537, 1541, 1542, 1546, 1549, 1554, 1558,\n",
              "        1560, 1562, 1575, 1578, 1579, 1582, 1587, 1588, 1592, 1596, 1599,\n",
              "        1603, 1605, 1606, 1607, 1609, 1611, 1621, 1627, 1628, 1632, 1638,\n",
              "        1642, 1643, 1646, 1648, 1656, 1659, 1663, 1667, 1671, 1675, 1676,\n",
              "        1681, 1682, 1684, 1690, 1693, 1695, 1705, 1713, 1717, 1718, 1720,\n",
              "        1723, 1729, 1734, 1736, 1739, 1741, 1758, 1762, 1770, 1775, 1779,\n",
              "        1780, 1781, 1782, 1790, 1800, 1801, 1805, 1825, 1826, 1831, 1835,\n",
              "        1839, 1844, 1847, 1848, 1853, 1856, 1859, 1861, 1867, 1872, 1883,\n",
              "        1890, 1891, 1892, 1898, 1907, 1915, 1917, 1923, 1924, 1935, 1942,\n",
              "        1956, 1961, 1963, 1972, 1981, 1982, 1984, 1987, 1996, 2005, 2010,\n",
              "        2014, 2022, 2030, 2037, 2044, 2050, 2054, 2059, 2060, 2073, 2074,\n",
              "        2075, 2076, 2080, 2084, 2088, 2090, 2095, 2104, 2119, 2136, 2142,\n",
              "        2150, 2153, 2156, 2158, 2193, 2198, 2199, 2210, 2221, 2225, 2226,\n",
              "        2239, 2240, 2246, 2249, 2253, 2262, 2265, 2274, 2280, 2289, 2296,\n",
              "        2301, 2303, 2307, 2310, 2314, 2316, 2318, 2322, 2349, 2350, 2353,\n",
              "        2354, 2367, 2368, 2374, 2376, 2377, 2379, 2380, 2384, 2386, 2387,\n",
              "        2388, 2393, 2395, 2399, 2400, 2414, 2415, 2420, 2433, 2434, 2453,\n",
              "        2454, 2455, 2457, 2458, 2459, 2470, 2472, 2486, 2487, 2494, 2495,\n",
              "        2505, 2506, 2514]),)"
            ]
          },
          "metadata": {
            "tags": []
          },
          "execution_count": 12
        }
      ]
    },
    {
      "cell_type": "code",
      "metadata": {
        "colab": {
          "base_uri": "https://localhost:8080/"
        },
        "id": "UMXqiBqaf7Dq",
        "outputId": "ee8b0ffa-211b-4764-c310-054891856cbd"
      },
      "source": [
        "np.where(data['user_description'].isnull())"
      ],
      "execution_count": null,
      "outputs": [
        {
          "output_type": "execute_result",
          "data": {
            "text/plain": [
              "(array([  20,   46,   59,   78,   97,  121,  141,  144,  148,  153,  161,\n",
              "         208,  213,  219,  230,  261,  309,  344,  373,  378,  379,  380,\n",
              "         381,  383,  389,  398,  401,  405,  428,  465,  466,  498,  505,\n",
              "         567,  591,  617,  636,  683,  694,  697,  751,  753,  790,  791,\n",
              "         804,  813,  832,  833,  842,  849,  850,  863,  884,  893,  895,\n",
              "        1039, 1041, 1089, 1127, 1138, 1162, 1167, 1170, 1176, 1177, 1195,\n",
              "        1231, 1277, 1315, 1344, 1423, 1431, 1483, 1491, 1502, 1533, 1549,\n",
              "        1609, 1611, 1621, 1623, 1626, 1678, 1693, 1695, 1713, 1716, 1770,\n",
              "        1771, 1805, 1837, 1847, 1848, 1861, 1892, 1912, 1936, 1959, 1961,\n",
              "        2036, 2044, 2076, 2080, 2090, 2094, 2095, 2110, 2142, 2165, 2199,\n",
              "        2212, 2240, 2269, 2270, 2274, 2279, 2311, 2319, 2354, 2368, 2405,\n",
              "        2415, 2453, 2472]),)"
            ]
          },
          "metadata": {
            "tags": []
          },
          "execution_count": 13
        }
      ]
    },
    {
      "cell_type": "code",
      "metadata": {
        "colab": {
          "base_uri": "https://localhost:8080/"
        },
        "id": "vA_f3rWzgnKV",
        "outputId": "3ade5832-93d5-4e36-9b20-7b309af69642"
      },
      "source": [
        "np.where(data['hashtags'].isnull())"
      ],
      "execution_count": null,
      "outputs": [
        {
          "output_type": "execute_result",
          "data": {
            "text/plain": [
              "(array([   1,    3,    5,   12,   14,   23,   31,   33,   39,   49,   52,\n",
              "          56,   60,   66,   69,   71,   76,   77,   80,   81,   88,   99,\n",
              "         105,  112,  113,  115,  123,  124,  126,  133,  134,  135,  139,\n",
              "         151,  154,  161,  162,  166,  169,  177,  178,  186,  187,  189,\n",
              "         202,  203,  208,  212,  213,  214,  215,  218,  221,  222,  223,\n",
              "         231,  235,  236,  237,  243,  244,  249,  257,  262,  263,  264,\n",
              "         269,  271,  275,  279,  280,  285,  286,  292,  294,  295,  296,\n",
              "         304,  309,  313,  314,  315,  316,  317,  322,  324,  331,  334,\n",
              "         337,  338,  339,  344,  347,  349,  350,  361,  370,  373,  375,\n",
              "         377,  378,  379,  380,  381,  395,  401,  402,  404,  411,  415,\n",
              "         419,  432,  440,  443,  448,  452,  455,  462,  468,  472,  476,\n",
              "         486,  489,  496,  498,  504,  506,  508,  511,  514,  522,  525,\n",
              "         526,  530,  531,  532,  533,  538,  540,  541,  542,  543,  544,\n",
              "         547,  552,  555,  556,  557,  560,  562,  571,  574,  577,  580,\n",
              "         582,  591,  597,  598,  599,  600,  601,  605,  607,  617,  618,\n",
              "         625,  629,  632,  633,  637,  638,  641,  644,  647,  648,  655,\n",
              "         656,  657,  658,  664,  665,  666,  668,  673,  677,  681,  682,\n",
              "         685,  688,  689,  693,  696,  697,  705,  707,  713,  719,  721,\n",
              "         723,  725,  727,  736,  749,  751,  754,  755,  758,  760,  763,\n",
              "         764,  765,  766,  767,  768,  769,  770,  771,  772,  773,  774,\n",
              "         775,  777,  778,  779,  780,  781,  787,  790,  792,  795,  803,\n",
              "         805,  806,  816,  817,  818,  819,  820,  821,  823,  825,  832,\n",
              "         833,  842,  844,  850,  852,  856,  860,  861,  863,  866,  871,\n",
              "         874,  876,  879,  881,  883,  887,  894,  895,  897,  899,  903,\n",
              "         904,  905,  906,  907,  912,  915,  917,  922,  928,  933,  947,\n",
              "         956,  957,  962,  973,  977,  983,  986,  996, 1000, 1003, 1009,\n",
              "        1010, 1012, 1021, 1033, 1038, 1041, 1042, 1049, 1052, 1054, 1059,\n",
              "        1069, 1070, 1074, 1078, 1079, 1088, 1093, 1100, 1102, 1108, 1109,\n",
              "        1115, 1120, 1122, 1126, 1140, 1159, 1171, 1173, 1183, 1188, 1197,\n",
              "        1208, 1209, 1213, 1214, 1217, 1224, 1225, 1226, 1231, 1236, 1246,\n",
              "        1247, 1261, 1276, 1278, 1281, 1283, 1295, 1300, 1313, 1316, 1323,\n",
              "        1332, 1333, 1334, 1339, 1340, 1343, 1346, 1347, 1349, 1351, 1356,\n",
              "        1359, 1360, 1363, 1364, 1368, 1372, 1380, 1384, 1386, 1392, 1394,\n",
              "        1408, 1420, 1425, 1426, 1432, 1434, 1454, 1460, 1463, 1466, 1472,\n",
              "        1476, 1477, 1479, 1483, 1485, 1486, 1487, 1493, 1495, 1503, 1506,\n",
              "        1509, 1511, 1517, 1520, 1523, 1525, 1528, 1534, 1540, 1554, 1557,\n",
              "        1562, 1564, 1565, 1566, 1567, 1583, 1596, 1598, 1600, 1610, 1612,\n",
              "        1613, 1619, 1628, 1631, 1641, 1648, 1652, 1655, 1656, 1665, 1667,\n",
              "        1672, 1679, 1681, 1687, 1688, 1692, 1696, 1699, 1700, 1702, 1704,\n",
              "        1715, 1717, 1727, 1732, 1735, 1737, 1742, 1744, 1750, 1756, 1768,\n",
              "        1789, 1794, 1803, 1809, 1810, 1812, 1817, 1822, 1826, 1831, 1834,\n",
              "        1837, 1843, 1844, 1845, 1851, 1852, 1858, 1860, 1865, 1868, 1871,\n",
              "        1879, 1884, 1889, 1892, 1893, 1894, 1898, 1900, 1911, 1915, 1920,\n",
              "        1927, 1930, 1931, 1933, 1942, 1945, 1952, 1953, 1954, 1957, 1958,\n",
              "        1963, 1964, 1966, 1967, 1975, 1978, 1986, 1994, 1998, 1999, 2001,\n",
              "        2002, 2007, 2012, 2016, 2021, 2026, 2031, 2046, 2047, 2053, 2054,\n",
              "        2056, 2060, 2074, 2085, 2097, 2098, 2109, 2111, 2112, 2113, 2116,\n",
              "        2118, 2120, 2122, 2125, 2131, 2133, 2134, 2135, 2137, 2140, 2141,\n",
              "        2147, 2150, 2152, 2156, 2159, 2160, 2161, 2165, 2170, 2171, 2172,\n",
              "        2185, 2186, 2199, 2203, 2206, 2211, 2212, 2213, 2218, 2219, 2220,\n",
              "        2223, 2225, 2227, 2240, 2241, 2245, 2246, 2251, 2252, 2257, 2259,\n",
              "        2260, 2261, 2262, 2273, 2277, 2281, 2282, 2284, 2287, 2289, 2291,\n",
              "        2292, 2296, 2298, 2304, 2311, 2314, 2319, 2324, 2325, 2327, 2329,\n",
              "        2337, 2339, 2345, 2349, 2350, 2351, 2352, 2356, 2357, 2362, 2367,\n",
              "        2368, 2369, 2375, 2381, 2385, 2390, 2393, 2395, 2406, 2417, 2419,\n",
              "        2426, 2428, 2429, 2430, 2434, 2436, 2437, 2441, 2443, 2445, 2450,\n",
              "        2451, 2456, 2461, 2462, 2463, 2465, 2466, 2474, 2484, 2485, 2487,\n",
              "        2493, 2495, 2498, 2501, 2507, 2508, 2509]),)"
            ]
          },
          "metadata": {
            "tags": []
          },
          "execution_count": 14
        }
      ]
    },
    {
      "cell_type": "code",
      "metadata": {
        "colab": {
          "base_uri": "https://localhost:8080/"
        },
        "id": "aw9y_fzygw_B",
        "outputId": "14990441-0e60-4a36-bf3f-bd35df0c2097"
      },
      "source": [
        "np.where(data['source'].isnull())"
      ],
      "execution_count": null,
      "outputs": [
        {
          "output_type": "execute_result",
          "data": {
            "text/plain": [
              "(array([1839]),)"
            ]
          },
          "metadata": {
            "tags": []
          },
          "execution_count": 15
        }
      ]
    },
    {
      "cell_type": "code",
      "metadata": {
        "id": "npWMy1q8g3kS"
      },
      "source": [
        "data['user_location'] = data['user_location'].fillna('Location Unavailable')\n",
        "data['user_description'] = data['user_description'].fillna('user description Unavailable')\n",
        "data['hashtags'] = data['hashtags'].fillna('Hashtags Unavailable')\n",
        "data['source'] = data['source'].fillna('Source unavailable')"
      ],
      "execution_count": null,
      "outputs": []
    },
    {
      "cell_type": "code",
      "metadata": {
        "colab": {
          "base_uri": "https://localhost:8080/"
        },
        "id": "_4HW96zBjFO2",
        "outputId": "abf44768-ff64-4b96-fda9-78c474665e9a"
      },
      "source": [
        "data.isnull().sum()\n"
      ],
      "execution_count": null,
      "outputs": [
        {
          "output_type": "execute_result",
          "data": {
            "text/plain": [
              "id                  0\n",
              "user_name           0\n",
              "user_location       0\n",
              "user_description    0\n",
              "user_created        0\n",
              "user_followers      0\n",
              "user_friends        0\n",
              "user_favourites     0\n",
              "user_verified       0\n",
              "date                0\n",
              "text                0\n",
              "hashtags            0\n",
              "source              0\n",
              "retweets            0\n",
              "favorites           0\n",
              "is_retweet          0\n",
              "dtype: int64"
            ]
          },
          "metadata": {
            "tags": []
          },
          "execution_count": 17
        }
      ]
    },
    {
      "cell_type": "code",
      "metadata": {
        "colab": {
          "base_uri": "https://localhost:8080/"
        },
        "id": "aOfitGt1j42I",
        "outputId": "5f450245-29db-4769-84ee-197ad43c10f7"
      },
      "source": [
        "for i in columns:\n",
        "  print('Number of unique values in',i,'is = ',len(np.unique(data[i])))"
      ],
      "execution_count": null,
      "outputs": [
        {
          "output_type": "stream",
          "text": [
            "Number of unique values in id is =  2518\n",
            "Number of unique values in user_name is =  1704\n",
            "Number of unique values in user_location is =  876\n",
            "Number of unique values in user_description is =  1614\n",
            "Number of unique values in user_created is =  1703\n",
            "Number of unique values in user_followers is =  1307\n",
            "Number of unique values in user_friends is =  1157\n",
            "Number of unique values in user_favourites is =  1616\n",
            "Number of unique values in user_verified is =  2\n",
            "Number of unique values in date is =  2516\n",
            "Number of unique values in text is =  2518\n",
            "Number of unique values in hashtags is =  1192\n",
            "Number of unique values in source is =  27\n",
            "Number of unique values in retweets is =  42\n",
            "Number of unique values in favorites is =  115\n",
            "Number of unique values in is_retweet is =  1\n"
          ],
          "name": "stdout"
        }
      ]
    },
    {
      "cell_type": "code",
      "metadata": {
        "colab": {
          "base_uri": "https://localhost:8080/",
          "height": 306
        },
        "id": "60X2T3TzkxRk",
        "outputId": "fb3071ed-8c21-47d1-e8ce-42939f3b7eee"
      },
      "source": [
        "plt.scatter(data['id'],data['user_followers'])"
      ],
      "execution_count": null,
      "outputs": [
        {
          "output_type": "execute_result",
          "data": {
            "text/plain": [
              "<matplotlib.collections.PathCollection at 0x7f5195f7a290>"
            ]
          },
          "metadata": {
            "tags": []
          },
          "execution_count": 19
        },
        {
          "output_type": "display_data",
          "data": {
            "image/png": "[encoded data removed]",
            "text/plain": [
              "<Figure size 432x288 with 1 Axes>"
            ]
          },
          "metadata": {
            "tags": [],
            "needs_background": "light"
          }
        }
      ]
    },
    {
      "cell_type": "code",
      "metadata": {
        "colab": {
          "base_uri": "https://localhost:8080/",
          "height": 296
        },
        "id": "puOEYKkfleHr",
        "outputId": "2203eaed-2f6a-46fa-ba5c-58ed563a6a12"
      },
      "source": [
        "plt.scatter(data['id'],data['user_friends'])"
      ],
      "execution_count": null,
      "outputs": [
        {
          "output_type": "execute_result",
          "data": {
            "text/plain": [
              "<matplotlib.collections.PathCollection at 0x7f5195f34b90>"
            ]
          },
          "metadata": {
            "tags": []
          },
          "execution_count": 20
        },
        {
          "output_type": "display_data",
          "data": {
            "image/png": "[encoded data removed]",
            "text/plain": [
              "<Figure size 432x288 with 1 Axes>"
            ]
          },
          "metadata": {
            "tags": [],
            "needs_background": "light"
          }
        }
      ]
    },
    {
      "cell_type": "code",
      "metadata": {
        "colab": {
          "base_uri": "https://localhost:8080/",
          "height": 296
        },
        "id": "kL1_r5ptmAKb",
        "outputId": "6b8ed997-6685-48bf-bc71-2d8416101b25"
      },
      "source": [
        "plt.scatter(data['id'],data['retweets'])"
      ],
      "execution_count": null,
      "outputs": [
        {
          "output_type": "execute_result",
          "data": {
            "text/plain": [
              "<matplotlib.collections.PathCollection at 0x7f5195ea7850>"
            ]
          },
          "metadata": {
            "tags": []
          },
          "execution_count": 21
        },
        {
          "output_type": "display_data",
          "data": {
            "image/png": "[encoded data removed]",
            "text/plain": [
              "<Figure size 432x288 with 1 Axes>"
            ]
          },
          "metadata": {
            "tags": [],
            "needs_background": "light"
          }
        }
      ]
    },
    {
      "cell_type": "code",
      "metadata": {
        "colab": {
          "base_uri": "https://localhost:8080/",
          "height": 296
        },
        "id": "eyVku1ACmVJM",
        "outputId": "76587f55-ee20-43ce-9a04-65bfbcccf7f1"
      },
      "source": [
        "plt.scatter(data['id'],data['is_retweet'])"
      ],
      "execution_count": null,
      "outputs": [
        {
          "output_type": "execute_result",
          "data": {
            "text/plain": [
              "<matplotlib.collections.PathCollection at 0x7f5195e52150>"
            ]
          },
          "metadata": {
            "tags": []
          },
          "execution_count": 22
        },
        {
          "output_type": "display_data",
          "data": {
            "image/png": "[encoded data removed]",
            "text/plain": [
              "<Figure size 432x288 with 1 Axes>"
            ]
          },
          "metadata": {
            "tags": [],
            "needs_background": "light"
          }
        }
      ]
    },
    {
      "cell_type": "code",
      "metadata": {
        "colab": {
          "base_uri": "https://localhost:8080/",
          "height": 297
        },
        "id": "KQCcpQbWmwOQ",
        "outputId": "5b90cbb4-7c94-4b20-a958-c0b8e3527f82"
      },
      "source": [
        "sns.violinplot(x='user_followers',data=data)"
      ],
      "execution_count": null,
      "outputs": [
        {
          "output_type": "execute_result",
          "data": {
            "text/plain": [
              "<matplotlib.axes._subplots.AxesSubplot at 0x7f91d5c22910>"
            ]
          },
          "metadata": {
            "tags": []
          },
          "execution_count": 23
        },
        {
          "output_type": "display_data",
          "data": {
            "image/png": "[encoded data removed]",
            "text/plain": [
              "<Figure size 432x288 with 1 Axes>"
            ]
          },
          "metadata": {
            "tags": [],
            "needs_background": "light"
          }
        }
      ]
    },
    {
      "cell_type": "code",
      "metadata": {
        "colab": {
          "base_uri": "https://localhost:8080/",
          "height": 297
        },
        "id": "xe4GVZy8nMgg",
        "outputId": "bd854b9d-9f9d-48d9-a21e-1455da03cacd"
      },
      "source": [
        "sns.violinplot(x='user_friends',data=data)"
      ],
      "execution_count": null,
      "outputs": [
        {
          "output_type": "execute_result",
          "data": {
            "text/plain": [
              "<matplotlib.axes._subplots.AxesSubplot at 0x7f91d6232250>"
            ]
          },
          "metadata": {
            "tags": []
          },
          "execution_count": 24
        },
        {
          "output_type": "display_data",
          "data": {
            "image/png": "[encoded data removed]",
            "text/plain": [
              "<Figure size 432x288 with 1 Axes>"
            ]
          },
          "metadata": {
            "tags": [],
            "needs_background": "light"
          }
        }
      ]
    },
    {
      "cell_type": "code",
      "metadata": {
        "id": "BGKSqCdynTTy"
      },
      "source": [
        "from sklearn.preprocessing import LabelEncoder\n",
        "data['user_name']=LabelEncoder().fit_transform(data['user_name'])\n",
        "data['user_location']=LabelEncoder().fit_transform(data['user_location'])\n",
        "data['user_description']=LabelEncoder().fit_transform(data['user_description'])\n",
        "data['hashtags']=LabelEncoder().fit_transform(data['hashtags'])\n",
        "data['source']=LabelEncoder().fit_transform(data['source'])\n"
      ],
      "execution_count": null,
      "outputs": []
    },
    {
      "cell_type": "code",
      "metadata": {
        "id": "6WwHzsoAo6bQ"
      },
      "source": [
        "\n",
        "data.drop('is_retweet',axis=1,inplace=True)"
      ],
      "execution_count": null,
      "outputs": []
    },
    {
      "cell_type": "code",
      "metadata": {
        "colab": {
          "base_uri": "https://localhost:8080/",
          "height": 512
        },
        "id": "DpbBNo0ppMsE",
        "outputId": "4783d88e-9f7a-4f63-a0ed-db6e9e0e6fbd"
      },
      "source": [
        "data.head()"
      ],
      "execution_count": null,
      "outputs": [
        {
          "output_type": "execute_result",
          "data": {
            "text/html": [
              "<div>\n",
              "<style scoped>\n",
              "    .dataframe tbody tr th:only-of-type {\n",
              "        vertical-align: middle;\n",
              "    }\n",
              "\n",
              "    .dataframe tbody tr th {\n",
              "        vertical-align: top;\n",
              "    }\n",
              "\n",
              "    .dataframe thead th {\n",
              "        text-align: right;\n",
              "    }\n",
              "</style>\n",
              "<table border=\"1\" class=\"dataframe\">\n",
              "  <thead>\n",
              "    <tr style=\"text-align: right;\">\n",
              "      <th></th>\n",
              "      <th>id</th>\n",
              "      <th>user_name</th>\n",
              "      <th>user_location</th>\n",
              "      <th>user_description</th>\n",
              "      <th>user_created</th>\n",
              "      <th>user_followers</th>\n",
              "      <th>user_friends</th>\n",
              "      <th>user_favourites</th>\n",
              "      <th>user_verified</th>\n",
              "      <th>date</th>\n",
              "      <th>text</th>\n",
              "      <th>hashtags</th>\n",
              "      <th>source</th>\n",
              "      <th>retweets</th>\n",
              "      <th>favorites</th>\n",
              "    </tr>\n",
              "  </thead>\n",
              "  <tbody>\n",
              "    <tr>\n",
              "      <th>0</th>\n",
              "      <td>1340539111971516416</td>\n",
              "      <td>1139</td>\n",
              "      <td>386</td>\n",
              "      <td>140</td>\n",
              "      <td>2009-04-08 17:52:46</td>\n",
              "      <td>405</td>\n",
              "      <td>1692</td>\n",
              "      <td>3247</td>\n",
              "      <td>False</td>\n",
              "      <td>2020-12-20 06:06:44</td>\n",
              "      <td>Same folks said daikon paste could treat a cyt...</td>\n",
              "      <td>754</td>\n",
              "      <td>23</td>\n",
              "      <td>0</td>\n",
              "      <td>0</td>\n",
              "    </tr>\n",
              "    <tr>\n",
              "      <th>1</th>\n",
              "      <td>1338158543359250433</td>\n",
              "      <td>63</td>\n",
              "      <td>647</td>\n",
              "      <td>867</td>\n",
              "      <td>2009-09-21 15:27:30</td>\n",
              "      <td>834</td>\n",
              "      <td>666</td>\n",
              "      <td>178</td>\n",
              "      <td>False</td>\n",
              "      <td>2020-12-13 16:27:13</td>\n",
              "      <td>While the world has been on the wrong side of ...</td>\n",
              "      <td>0</td>\n",
              "      <td>22</td>\n",
              "      <td>1</td>\n",
              "      <td>1</td>\n",
              "    </tr>\n",
              "    <tr>\n",
              "      <th>2</th>\n",
              "      <td>1337858199140118533</td>\n",
              "      <td>1570</td>\n",
              "      <td>823</td>\n",
              "      <td>1482</td>\n",
              "      <td>2020-06-25 23:30:28</td>\n",
              "      <td>10</td>\n",
              "      <td>88</td>\n",
              "      <td>155</td>\n",
              "      <td>False</td>\n",
              "      <td>2020-12-12 20:33:45</td>\n",
              "      <td>#coronavirus #SputnikV #AstraZeneca #PfizerBio...</td>\n",
              "      <td>986</td>\n",
              "      <td>23</td>\n",
              "      <td>0</td>\n",
              "      <td>0</td>\n",
              "    </tr>\n",
              "    <tr>\n",
              "      <th>3</th>\n",
              "      <td>1337855739918835717</td>\n",
              "      <td>244</td>\n",
              "      <td>779</td>\n",
              "      <td>602</td>\n",
              "      <td>2008-09-10 11:28:53</td>\n",
              "      <td>49165</td>\n",
              "      <td>3933</td>\n",
              "      <td>21853</td>\n",
              "      <td>True</td>\n",
              "      <td>2020-12-12 20:23:59</td>\n",
              "      <td>Facts are immutable, Senator, even when you're...</td>\n",
              "      <td>0</td>\n",
              "      <td>22</td>\n",
              "      <td>446</td>\n",
              "      <td>2129</td>\n",
              "    </tr>\n",
              "    <tr>\n",
              "      <th>4</th>\n",
              "      <td>1337854064604966912</td>\n",
              "      <td>267</td>\n",
              "      <td>407</td>\n",
              "      <td>304</td>\n",
              "      <td>2020-04-23 17:58:42</td>\n",
              "      <td>152</td>\n",
              "      <td>580</td>\n",
              "      <td>1473</td>\n",
              "      <td>False</td>\n",
              "      <td>2020-12-12 20:17:19</td>\n",
              "      <td>Explain to me again why we need a vaccine @Bor...</td>\n",
              "      <td>1187</td>\n",
              "      <td>26</td>\n",
              "      <td>0</td>\n",
              "      <td>0</td>\n",
              "    </tr>\n",
              "  </tbody>\n",
              "</table>\n",
              "</div>"
            ],
            "text/plain": [
              "                    id  user_name  user_location  ...  source retweets  favorites\n",
              "0  1340539111971516416       1139            386  ...      23        0          0\n",
              "1  1338158543359250433         63            647  ...      22        1          1\n",
              "2  1337858199140118533       1570            823  ...      23        0          0\n",
              "3  1337855739918835717        244            779  ...      22      446       2129\n",
              "4  1337854064604966912        267            407  ...      26        0          0\n",
              "\n",
              "[5 rows x 15 columns]"
            ]
          },
          "metadata": {
            "tags": []
          },
          "execution_count": 25
        }
      ]
    },
    {
      "cell_type": "code",
      "metadata": {
        "colab": {
          "base_uri": "https://localhost:8080/"
        },
        "id": "Yp6oPKd0pOVr",
        "outputId": "04e38755-185f-463a-e678-199b8612cfb0"
      },
      "source": [
        "data.shape"
      ],
      "execution_count": null,
      "outputs": [
        {
          "output_type": "execute_result",
          "data": {
            "text/plain": [
              "(2518, 15)"
            ]
          },
          "metadata": {
            "tags": []
          },
          "execution_count": 26
        }
      ]
    },
    {
      "cell_type": "code",
      "metadata": {
        "id": "tItsjFoNpWGR"
      },
      "source": [
        "data['user_verified'].replace(False,0,inplace=True)\n",
        "data['user_verified'].replace(True,1,inplace=True)\n",
        "data['user_verified']=data['user_verified'].astype(int)"
      ],
      "execution_count": null,
      "outputs": []
    },
    {
      "cell_type": "code",
      "metadata": {
        "id": "wJNIlL9ZrKfs"
      },
      "source": [
        "data.drop('id',axis=1,inplace=True)"
      ],
      "execution_count": null,
      "outputs": []
    },
    {
      "cell_type": "code",
      "metadata": {
        "colab": {
          "base_uri": "https://localhost:8080/"
        },
        "id": "ir6cv2ogrSmQ",
        "outputId": "89c8533e-22a2-451a-d424-0ba5bfeb5bd6"
      },
      "source": [
        "data.shape"
      ],
      "execution_count": null,
      "outputs": [
        {
          "output_type": "execute_result",
          "data": {
            "text/plain": [
              "(2518, 14)"
            ]
          },
          "metadata": {
            "tags": []
          },
          "execution_count": 29
        }
      ]
    },
    {
      "cell_type": "code",
      "metadata": {
        "colab": {
          "base_uri": "https://localhost:8080/",
          "height": 296
        },
        "id": "I7BQjRZYrUCk",
        "outputId": "4cdd454b-d15d-48b0-8d94-25c3dea8d70f"
      },
      "source": [
        "sns.countplot(x='user_name',hue='user_verified',data=data)"
      ],
      "execution_count": null,
      "outputs": [
        {
          "output_type": "execute_result",
          "data": {
            "text/plain": [
              "<matplotlib.axes._subplots.AxesSubplot at 0x7f51930a8110>"
            ]
          },
          "metadata": {
            "tags": []
          },
          "execution_count": 30
        },
        {
          "output_type": "display_data",
          "data": {
            "image/png": "[encoded data removed]",
            "text/plain": [
              "<Figure size 432x288 with 1 Axes>"
            ]
          },
          "metadata": {
            "tags": [],
            "needs_background": "light"
          }
        }
      ]
    },
    {
      "cell_type": "code",
      "metadata": {
        "colab": {
          "base_uri": "https://localhost:8080/",
          "height": 297
        },
        "id": "U80lu4Eork8l",
        "outputId": "e66bd972-532b-400e-e910-0669ee5491c3"
      },
      "source": [
        "sns.countplot(x='user_verified',data=data)"
      ],
      "execution_count": null,
      "outputs": [
        {
          "output_type": "execute_result",
          "data": {
            "text/plain": [
              "<matplotlib.axes._subplots.AxesSubplot at 0x7f5190c43290>"
            ]
          },
          "metadata": {
            "tags": []
          },
          "execution_count": 31
        },
        {
          "output_type": "display_data",
          "data": {
            "image/png": "[encoded data removed]",
            "text/plain": [
              "<Figure size 432x288 with 1 Axes>"
            ]
          },
          "metadata": {
            "tags": [],
            "needs_background": "light"
          }
        }
      ]
    },
    {
      "cell_type": "code",
      "metadata": {
        "id": "LmJdTyAFswz9"
      },
      "source": [
        "take=[]\n",
        "drop=[]\n",
        "for j in data.columns:\n",
        "  if j =='text' or j == 'user_verified':\n",
        "    take.append(j)\n",
        "  else:\n",
        "    drop.append(j)"
      ],
      "execution_count": null,
      "outputs": []
    },
    {
      "cell_type": "code",
      "metadata": {
        "colab": {
          "base_uri": "https://localhost:8080/"
        },
        "id": "e-QIV-Bktctv",
        "outputId": "4460618b-2377-4e23-94b3-d15bdc1898b6"
      },
      "source": [
        "drop"
      ],
      "execution_count": null,
      "outputs": [
        {
          "output_type": "execute_result",
          "data": {
            "text/plain": [
              "['user_name',\n",
              " 'user_location',\n",
              " 'user_description',\n",
              " 'user_created',\n",
              " 'user_followers',\n",
              " 'user_friends',\n",
              " 'user_favourites',\n",
              " 'date',\n",
              " 'hashtags',\n",
              " 'source',\n",
              " 'retweets',\n",
              " 'favorites']"
            ]
          },
          "metadata": {
            "tags": []
          },
          "execution_count": 33
        }
      ]
    },
    {
      "cell_type": "code",
      "metadata": {
        "id": "LHUHtQRKtiKs"
      },
      "source": [
        "data.drop(drop,axis=1,inplace=True)"
      ],
      "execution_count": null,
      "outputs": []
    },
    {
      "cell_type": "code",
      "metadata": {
        "colab": {
          "base_uri": "https://localhost:8080/",
          "height": 203
        },
        "id": "97PpRjaZt1oJ",
        "outputId": "44365443-e4e7-47c0-f346-140fbe8623af"
      },
      "source": [
        "data.head()"
      ],
      "execution_count": null,
      "outputs": [
        {
          "output_type": "execute_result",
          "data": {
            "text/html": [
              "<div>\n",
              "<style scoped>\n",
              "    .dataframe tbody tr th:only-of-type {\n",
              "        vertical-align: middle;\n",
              "    }\n",
              "\n",
              "    .dataframe tbody tr th {\n",
              "        vertical-align: top;\n",
              "    }\n",
              "\n",
              "    .dataframe thead th {\n",
              "        text-align: right;\n",
              "    }\n",
              "</style>\n",
              "<table border=\"1\" class=\"dataframe\">\n",
              "  <thead>\n",
              "    <tr style=\"text-align: right;\">\n",
              "      <th></th>\n",
              "      <th>user_verified</th>\n",
              "      <th>text</th>\n",
              "    </tr>\n",
              "  </thead>\n",
              "  <tbody>\n",
              "    <tr>\n",
              "      <th>0</th>\n",
              "      <td>0</td>\n",
              "      <td>Same folks said daikon paste could treat a cyt...</td>\n",
              "    </tr>\n",
              "    <tr>\n",
              "      <th>1</th>\n",
              "      <td>0</td>\n",
              "      <td>While the world has been on the wrong side of ...</td>\n",
              "    </tr>\n",
              "    <tr>\n",
              "      <th>2</th>\n",
              "      <td>0</td>\n",
              "      <td>#coronavirus #SputnikV #AstraZeneca #PfizerBio...</td>\n",
              "    </tr>\n",
              "    <tr>\n",
              "      <th>3</th>\n",
              "      <td>1</td>\n",
              "      <td>Facts are immutable, Senator, even when you're...</td>\n",
              "    </tr>\n",
              "    <tr>\n",
              "      <th>4</th>\n",
              "      <td>0</td>\n",
              "      <td>Explain to me again why we need a vaccine @Bor...</td>\n",
              "    </tr>\n",
              "  </tbody>\n",
              "</table>\n",
              "</div>"
            ],
            "text/plain": [
              "   user_verified                                               text\n",
              "0              0  Same folks said daikon paste could treat a cyt...\n",
              "1              0  While the world has been on the wrong side of ...\n",
              "2              0  #coronavirus #SputnikV #AstraZeneca #PfizerBio...\n",
              "3              1  Facts are immutable, Senator, even when you're...\n",
              "4              0  Explain to me again why we need a vaccine @Bor..."
            ]
          },
          "metadata": {
            "tags": []
          },
          "execution_count": 35
        }
      ]
    },
    {
      "cell_type": "code",
      "metadata": {
        "id": "38Nazudrt6ZH"
      },
      "source": [
        "x=data['text']\n",
        "y=data['user_verified']\n"
      ],
      "execution_count": null,
      "outputs": []
    },
    {
      "cell_type": "code",
      "metadata": {
        "colab": {
          "base_uri": "https://localhost:8080/"
        },
        "id": "bGO27I7PuNJj",
        "outputId": "afe66ba0-1ae4-4b64-a9c9-e16590277d8d"
      },
      "source": [
        "verified_user=[]\n",
        "not_verified_user=[]\n",
        "for i in data['user_verified']:\n",
        "  if i==1:\n",
        "    verified_user.append(i)\n",
        "  else:\n",
        "    not_verified_user.append(i)\n",
        "\n",
        "print('percentage of verified user = ',((len(verified_user)/len(data['user_verified']))*100),'%')\n",
        "print('percentage of non verified user = ',((len(not_verified_user)/len(data['user_verified']))*100),'%')"
      ],
      "execution_count": null,
      "outputs": [
        {
          "output_type": "stream",
          "text": [
            "percentage of verified user =  14.138204924543288 %\n",
            "percentage of non verified user =  85.86179507545671 %\n"
          ],
          "name": "stdout"
        }
      ]
    },
    {
      "cell_type": "code",
      "metadata": {
        "id": "djR8ds92vzrv"
      },
      "source": [
        "from tensorflow import keras\n",
        "from keras.preprocessing.text import Tokenizer\n",
        "from keras_preprocessing.sequence import pad_sequences"
      ],
      "execution_count": null,
      "outputs": []
    },
    {
      "cell_type": "code",
      "metadata": {
        "id": "pWIU2q8Gw2p6"
      },
      "source": [
        "tokenizer=Tokenizer(10000,lower=True,oov_token='UNK')\n",
        "tokenizer.fit_on_texts(x)"
      ],
      "execution_count": null,
      "outputs": []
    },
    {
      "cell_type": "code",
      "metadata": {
        "id": "-IsTUYX8xhFF"
      },
      "source": [
        "sequence=tokenizer.texts_to_sequences(x)\n",
        "final_input=pad_sequences(sequence,maxlen=200,padding='pre')"
      ],
      "execution_count": null,
      "outputs": []
    },
    {
      "cell_type": "code",
      "metadata": {
        "id": "ga5pJMaVyZbF"
      },
      "source": [
        "final_output=np.array(y)"
      ],
      "execution_count": null,
      "outputs": []
    },
    {
      "cell_type": "code",
      "metadata": {
        "id": "wB0oscW6y9Kc"
      },
      "source": [
        "from keras.models import Sequential\n",
        "from keras.layers import LSTM,Bidirectional,Dense,Embedding\n"
      ],
      "execution_count": null,
      "outputs": []
    },
    {
      "cell_type": "code",
      "metadata": {
        "id": "GK-dkFnezLQO"
      },
      "source": [
        "model=Sequential()\n",
        "model.add(Embedding(input_dim=10000,output_dim=20,input_length=200))\n",
        "model.add(Bidirectional(LSTM(64,return_sequences=True)))\n",
        "model.add(Bidirectional(LSTM(32)))\n",
        "model.add(Dense(1))"
      ],
      "execution_count": null,
      "outputs": []
    },
    {
      "cell_type": "code",
      "metadata": {
        "colab": {
          "base_uri": "https://localhost:8080/"
        },
        "id": "oV3u9AoX0u3r",
        "outputId": "581a0baf-3a88-46df-8177-dbe3630027d4"
      },
      "source": [
        "model.summary()"
      ],
      "execution_count": null,
      "outputs": [
        {
          "output_type": "stream",
          "text": [
            "Model: \"sequential\"\n",
            "_________________________________________________________________\n",
            "Layer (type)                 Output Shape              Param #   \n",
            "=================================================================\n",
            "embedding (Embedding)        (None, 200, 20)           200000    \n",
            "_________________________________________________________________\n",
            "bidirectional (Bidirectional (None, 200, 128)          43520     \n",
            "_________________________________________________________________\n",
            "bidirectional_1 (Bidirection (None, 64)                41216     \n",
            "_________________________________________________________________\n",
            "dense (Dense)                (None, 1)                 65        \n",
            "=================================================================\n",
            "Total params: 284,801\n",
            "Trainable params: 284,801\n",
            "Non-trainable params: 0\n",
            "_________________________________________________________________\n"
          ],
          "name": "stdout"
        }
      ]
    },
    {
      "cell_type": "code",
      "metadata": {
        "id": "uUw8up0U0zvg"
      },
      "source": [
        "model.compile(loss='binary_crossentropy',optimizer='adam',metrics=['accuracy'])"
      ],
      "execution_count": null,
      "outputs": []
    },
    {
      "cell_type": "code",
      "metadata": {
        "colab": {
          "base_uri": "https://localhost:8080/"
        },
        "id": "deiwC4wO1ZQR",
        "outputId": "fac21575-fb8a-40fb-be68-be2a7734a916"
      },
      "source": [
        "pred=model.fit(final_input,final_output,epochs=5,batch_size=32)"
      ],
      "execution_count": null,
      "outputs": [
        {
          "output_type": "stream",
          "text": [
            "Epoch 1/5\n",
            "79/79 [==============================] - 28s 31ms/step - loss: 0.4388 - accuracy: 0.8532\n",
            "Epoch 2/5\n",
            "79/79 [==============================] - 2s 30ms/step - loss: 0.3398 - accuracy: 0.8508\n",
            "Epoch 3/5\n",
            "79/79 [==============================] - 2s 30ms/step - loss: 0.1897 - accuracy: 0.9387\n",
            "Epoch 4/5\n",
            "79/79 [==============================] - 2s 30ms/step - loss: 0.0647 - accuracy: 0.9906\n",
            "Epoch 5/5\n",
            "79/79 [==============================] - 2s 30ms/step - loss: 0.0309 - accuracy: 0.9980\n"
          ],
          "name": "stdout"
        }
      ]
    },
    {
      "cell_type": "code",
      "metadata": {
        "id": "4-ZfgARS1nrk"
      },
      "source": [
        "model.save('Vaccine Delivery.h5')"
      ],
      "execution_count": null,
      "outputs": []
    },
    {
      "cell_type": "code",
      "metadata": {
        "colab": {
          "base_uri": "https://localhost:8080/",
          "height": 265
        },
        "id": "RqiNW0gc2TSD",
        "outputId": "1837047b-4a8c-4ed3-a053-03dd84495f6a"
      },
      "source": [
        "plt.plot(pred.history['loss'],label='loss')\n",
        "plt.plot(pred.history['accuracy'],label='accuracy')\n",
        "plt.legend(loc='best')\n",
        "plt.show()"
      ],
      "execution_count": null,
      "outputs": [
        {
          "output_type": "display_data",
          "data": {
            "image/png": "[encoded data removed]",
            "text/plain": [
              "<Figure size 432x288 with 1 Axes>"
            ]
          },
          "metadata": {
            "tags": [],
            "needs_background": "light"
          }
        }
      ]
    },
    {
      "cell_type": "code",
      "metadata": {
        "id": "e9snqNU83MTj"
      },
      "source": [
        "def verification(details):\n",
        "  sentence_list=[]\n",
        "  sentence_list.append(details)\n",
        "  fit=tokenizer.texts_to_sequences(sentence_list)\n",
        "  sequence=pad_sequences(fit,maxlen=80,padding='pre')\n",
        "  output=model.predict_classes(sequence)\n",
        "  if output.all()==1:\n",
        "    print('Verified User')\n",
        "  else:\n",
        "    print('Not A Verified User')"
      ],
      "execution_count": null,
      "outputs": []
    },
    {
      "cell_type": "code",
      "metadata": {
        "colab": {
          "base_uri": "https://localhost:8080/",
          "height": 35
        },
        "id": "MV4a0e-z4wAv",
        "outputId": "a7c78916-eb0b-4ec7-eef7-8a3460abf25a"
      },
      "source": [
        "data['text'][5]"
      ],
      "execution_count": null,
      "outputs": [
        {
          "output_type": "execute_result",
          "data": {
            "application/vnd.google.colaboratory.intrinsic+json": {
              "type": "string"
            },
            "text/plain": [
              "'Does anyone have any useful advice/guidance for whether the COVID vaccine is safe whilst breastfeeding?… https://t.co/EifsyQoeKN'"
            ]
          },
          "metadata": {
            "tags": []
          },
          "execution_count": 52
        }
      ]
    },
    {
      "cell_type": "code",
      "metadata": {
        "colab": {
          "base_uri": "https://localhost:8080/"
        },
        "id": "GTKhWXJ65G_J",
        "outputId": "20e5c791-3da0-4f14-a0d2-51bb7d481481"
      },
      "source": [
        "verification('old people need vaccines first')"
      ],
      "execution_count": null,
      "outputs": [
        {
          "output_type": "stream",
          "text": [
            "Verified User\n"
          ],
          "name": "stdout"
        },
        {
          "output_type": "stream",
          "text": [
            "/usr/local/lib/python3.7/dist-packages/keras/engine/sequential.py:450: UserWarning: `model.predict_classes()` is deprecated and will be removed after 2021-01-01. Please use instead:* `np.argmax(model.predict(x), axis=-1)`,   if your model does multi-class classification   (e.g. if it uses a `softmax` last-layer activation).* `(model.predict(x) > 0.5).astype(\"int32\")`,   if your model does binary classification   (e.g. if it uses a `sigmoid` last-layer activation).\n",
            "  warnings.warn('`model.predict_classes()` is deprecated and '\n"
          ],
          "name": "stderr"
        }
      ]
    },
    {
      "cell_type": "code",
      "metadata": {
        "id": "IF4PrhcC5QlB"
      },
      "source": [
        ""
      ],
      "execution_count": null,
      "outputs": []
    }
  ]
}